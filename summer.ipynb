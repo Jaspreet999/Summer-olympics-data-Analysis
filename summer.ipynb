{
 "cells": [
  {
   "cell_type": "markdown",
   "id": "77133570",
   "metadata": {},
   "source": [
    "# Summer olympic data analysis"
   ]
  },
  {
   "cell_type": "code",
   "execution_count": 2,
   "id": "533cd22d",
   "metadata": {},
   "outputs": [
    {
     "data": {
      "text/html": [
       "<div>\n",
       "<style scoped>\n",
       "    .dataframe tbody tr th:only-of-type {\n",
       "        vertical-align: middle;\n",
       "    }\n",
       "\n",
       "    .dataframe tbody tr th {\n",
       "        vertical-align: top;\n",
       "    }\n",
       "\n",
       "    .dataframe thead th {\n",
       "        text-align: right;\n",
       "    }\n",
       "</style>\n",
       "<table border=\"1\" class=\"dataframe\">\n",
       "  <thead>\n",
       "    <tr style=\"text-align: right;\">\n",
       "      <th></th>\n",
       "      <th>Year</th>\n",
       "      <th>City</th>\n",
       "      <th>Sport</th>\n",
       "      <th>Discipline</th>\n",
       "      <th>Athlete</th>\n",
       "      <th>Country</th>\n",
       "      <th>Gender</th>\n",
       "      <th>Event</th>\n",
       "      <th>Medal</th>\n",
       "    </tr>\n",
       "  </thead>\n",
       "  <tbody>\n",
       "    <tr>\n",
       "      <th>0</th>\n",
       "      <td>1896</td>\n",
       "      <td>Athens</td>\n",
       "      <td>Aquatics</td>\n",
       "      <td>Swimming</td>\n",
       "      <td>HAJOS, Alfred</td>\n",
       "      <td>HUN</td>\n",
       "      <td>Men</td>\n",
       "      <td>100M Freestyle</td>\n",
       "      <td>Gold</td>\n",
       "    </tr>\n",
       "    <tr>\n",
       "      <th>1</th>\n",
       "      <td>1896</td>\n",
       "      <td>Athens</td>\n",
       "      <td>Aquatics</td>\n",
       "      <td>Swimming</td>\n",
       "      <td>HERSCHMANN, Otto</td>\n",
       "      <td>AUT</td>\n",
       "      <td>Men</td>\n",
       "      <td>100M Freestyle</td>\n",
       "      <td>Silver</td>\n",
       "    </tr>\n",
       "    <tr>\n",
       "      <th>2</th>\n",
       "      <td>1896</td>\n",
       "      <td>Athens</td>\n",
       "      <td>Aquatics</td>\n",
       "      <td>Swimming</td>\n",
       "      <td>DRIVAS, Dimitrios</td>\n",
       "      <td>GRE</td>\n",
       "      <td>Men</td>\n",
       "      <td>100M Freestyle For Sailors</td>\n",
       "      <td>Bronze</td>\n",
       "    </tr>\n",
       "    <tr>\n",
       "      <th>3</th>\n",
       "      <td>1896</td>\n",
       "      <td>Athens</td>\n",
       "      <td>Aquatics</td>\n",
       "      <td>Swimming</td>\n",
       "      <td>MALOKINIS, Ioannis</td>\n",
       "      <td>GRE</td>\n",
       "      <td>Men</td>\n",
       "      <td>100M Freestyle For Sailors</td>\n",
       "      <td>Gold</td>\n",
       "    </tr>\n",
       "    <tr>\n",
       "      <th>4</th>\n",
       "      <td>1896</td>\n",
       "      <td>Athens</td>\n",
       "      <td>Aquatics</td>\n",
       "      <td>Swimming</td>\n",
       "      <td>CHASAPIS, Spiridon</td>\n",
       "      <td>GRE</td>\n",
       "      <td>Men</td>\n",
       "      <td>100M Freestyle For Sailors</td>\n",
       "      <td>Silver</td>\n",
       "    </tr>\n",
       "  </tbody>\n",
       "</table>\n",
       "</div>"
      ],
      "text/plain": [
       "   Year    City     Sport Discipline             Athlete Country Gender  \\\n",
       "0  1896  Athens  Aquatics   Swimming       HAJOS, Alfred     HUN    Men   \n",
       "1  1896  Athens  Aquatics   Swimming    HERSCHMANN, Otto     AUT    Men   \n",
       "2  1896  Athens  Aquatics   Swimming   DRIVAS, Dimitrios     GRE    Men   \n",
       "3  1896  Athens  Aquatics   Swimming  MALOKINIS, Ioannis     GRE    Men   \n",
       "4  1896  Athens  Aquatics   Swimming  CHASAPIS, Spiridon     GRE    Men   \n",
       "\n",
       "                        Event   Medal  \n",
       "0              100M Freestyle    Gold  \n",
       "1              100M Freestyle  Silver  \n",
       "2  100M Freestyle For Sailors  Bronze  \n",
       "3  100M Freestyle For Sailors    Gold  \n",
       "4  100M Freestyle For Sailors  Silver  "
      ]
     },
     "execution_count": 2,
     "metadata": {},
     "output_type": "execute_result"
    }
   ],
   "source": [
    "import pandas as pd\n",
    "\n",
    "df = pd.read_csv('summer.csv')\n",
    "df.head()"
   ]
  },
  {
   "cell_type": "code",
   "execution_count": 15,
   "id": "ffbf18ae",
   "metadata": {},
   "outputs": [],
   "source": [
    "del df['Discipline']"
   ]
  },
  {
   "cell_type": "code",
   "execution_count": 25,
   "id": "7f075af1",
   "metadata": {},
   "outputs": [
    {
     "data": {
      "text/html": [
       "<div>\n",
       "<style scoped>\n",
       "    .dataframe tbody tr th:only-of-type {\n",
       "        vertical-align: middle;\n",
       "    }\n",
       "\n",
       "    .dataframe tbody tr th {\n",
       "        vertical-align: top;\n",
       "    }\n",
       "\n",
       "    .dataframe thead th {\n",
       "        text-align: right;\n",
       "    }\n",
       "</style>\n",
       "<table border=\"1\" class=\"dataframe\">\n",
       "  <thead>\n",
       "    <tr style=\"text-align: right;\">\n",
       "      <th></th>\n",
       "      <th>Year</th>\n",
       "      <th>City</th>\n",
       "      <th>Sport</th>\n",
       "      <th>Athlete</th>\n",
       "      <th>Country</th>\n",
       "      <th>Gender</th>\n",
       "      <th>Event</th>\n",
       "      <th>Medal</th>\n",
       "    </tr>\n",
       "  </thead>\n",
       "  <tbody>\n",
       "    <tr>\n",
       "      <th>0</th>\n",
       "      <td>1896</td>\n",
       "      <td>Athens</td>\n",
       "      <td>Aquatics</td>\n",
       "      <td>HAJOS, Alfred</td>\n",
       "      <td>HUN</td>\n",
       "      <td>Men</td>\n",
       "      <td>100M Freestyle</td>\n",
       "      <td>Gold</td>\n",
       "    </tr>\n",
       "    <tr>\n",
       "      <th>1</th>\n",
       "      <td>1896</td>\n",
       "      <td>Athens</td>\n",
       "      <td>Aquatics</td>\n",
       "      <td>HERSCHMANN, Otto</td>\n",
       "      <td>AUT</td>\n",
       "      <td>Men</td>\n",
       "      <td>100M Freestyle</td>\n",
       "      <td>Silver</td>\n",
       "    </tr>\n",
       "    <tr>\n",
       "      <th>2</th>\n",
       "      <td>1896</td>\n",
       "      <td>Athens</td>\n",
       "      <td>Aquatics</td>\n",
       "      <td>DRIVAS, Dimitrios</td>\n",
       "      <td>GRE</td>\n",
       "      <td>Men</td>\n",
       "      <td>100M Freestyle For Sailors</td>\n",
       "      <td>Bronze</td>\n",
       "    </tr>\n",
       "    <tr>\n",
       "      <th>3</th>\n",
       "      <td>1896</td>\n",
       "      <td>Athens</td>\n",
       "      <td>Aquatics</td>\n",
       "      <td>MALOKINIS, Ioannis</td>\n",
       "      <td>GRE</td>\n",
       "      <td>Men</td>\n",
       "      <td>100M Freestyle For Sailors</td>\n",
       "      <td>Gold</td>\n",
       "    </tr>\n",
       "    <tr>\n",
       "      <th>4</th>\n",
       "      <td>1896</td>\n",
       "      <td>Athens</td>\n",
       "      <td>Aquatics</td>\n",
       "      <td>CHASAPIS, Spiridon</td>\n",
       "      <td>GRE</td>\n",
       "      <td>Men</td>\n",
       "      <td>100M Freestyle For Sailors</td>\n",
       "      <td>Silver</td>\n",
       "    </tr>\n",
       "  </tbody>\n",
       "</table>\n",
       "</div>"
      ],
      "text/plain": [
       "   Year    City     Sport             Athlete Country Gender  \\\n",
       "0  1896  Athens  Aquatics       HAJOS, Alfred     HUN    Men   \n",
       "1  1896  Athens  Aquatics    HERSCHMANN, Otto     AUT    Men   \n",
       "2  1896  Athens  Aquatics   DRIVAS, Dimitrios     GRE    Men   \n",
       "3  1896  Athens  Aquatics  MALOKINIS, Ioannis     GRE    Men   \n",
       "4  1896  Athens  Aquatics  CHASAPIS, Spiridon     GRE    Men   \n",
       "\n",
       "                        Event   Medal  \n",
       "0              100M Freestyle    Gold  \n",
       "1              100M Freestyle  Silver  \n",
       "2  100M Freestyle For Sailors  Bronze  \n",
       "3  100M Freestyle For Sailors    Gold  \n",
       "4  100M Freestyle For Sailors  Silver  "
      ]
     },
     "execution_count": 25,
     "metadata": {},
     "output_type": "execute_result"
    }
   ],
   "source": [
    "df.head()"
   ]
  },
  {
   "cell_type": "markdown",
   "id": "818a9d22",
   "metadata": {},
   "source": [
    "# 1. In how many city summer olympic held so far?"
   ]
  },
  {
   "cell_type": "code",
   "execution_count": 53,
   "id": "3f67da4f",
   "metadata": {},
   "outputs": [
    {
     "data": {
      "text/plain": [
       "22"
      ]
     },
     "execution_count": 53,
     "metadata": {},
     "output_type": "execute_result"
    }
   ],
   "source": [
    "len(df['City'].unique())"
   ]
  },
  {
   "cell_type": "markdown",
   "id": "e1e150fe",
   "metadata": {},
   "source": [
    "# 2. Which sport is having most number of gold medals so far?"
   ]
  },
  {
   "cell_type": "code",
   "execution_count": 66,
   "id": "8f5197cc",
   "metadata": {},
   "outputs": [
    {
     "data": {
      "text/plain": [
       "<AxesSubplot:xlabel='Sport'>"
      ]
     },
     "execution_count": 66,
     "metadata": {},
     "output_type": "execute_result"
    },
    {
     "data": {
      "image/png": "[encoded data removed]",
      "text/plain": [
       "<Figure size 720x360 with 1 Axes>"
      ]
     },
     "metadata": {
      "needs_background": "light"
     },
     "output_type": "display_data"
    }
   ],
   "source": [
    "gdf = df[df['Medal'] == 'Gold'] \n",
    "\n",
    "data = []\n",
    "\n",
    "for sport in gdf['Sport'].unique():\n",
    "    data.append([sport,len(gdf[gdf['Sport'] == sport ])])\n",
    "\n",
    "data = pd.DataFrame(data, columns = ['Sport','Freq of Gold']).sort_values(by = 'Freq of Gold', ascending = False)\n",
    "data.head().plot(x = 'Sport', y = 'Freq of Gold', kind = 'bar',figsize = (10,5), color = 'gold')"
   ]
  },
  {
   "cell_type": "markdown",
   "id": "e34b88fe",
   "metadata": {},
   "source": [
    "# 3.Which sport is having most number of medals so far?"
   ]
  },
  {
   "cell_type": "code",
   "execution_count": 75,
   "id": "875c9791",
   "metadata": {},
   "outputs": [
    {
     "data": {
      "text/plain": [
       "<AxesSubplot:xlabel='Sport'>"
      ]
     },
     "execution_count": 75,
     "metadata": {},
     "output_type": "execute_result"
    },
    {
     "data": {
      "image/png": "[encoded data removed]",
      "text/plain": [
       "<Figure size 720x360 with 1 Axes>"
      ]
     },
     "metadata": {
      "needs_background": "light"
     },
     "output_type": "display_data"
    }
   ],
   "source": [
    "data = []\n",
    "\n",
    "for sport in df['Sport'].unique():\n",
    "    data.append([sport,len(df[df['Sport'] == sport ])])\n",
    "\n",
    "data = pd.DataFrame(data, columns = ['Sport','Freq of medals']).sort_values(by = 'Freq of medals', ascending = False)\n",
    "data.head().plot(x = 'Sport', y = 'Freq of medals', kind = 'bar',figsize = (10,5), color = 'green')"
   ]
  },
  {
   "cell_type": "markdown",
   "id": "0b7ce02d",
   "metadata": {},
   "source": [
    "# 4. which player has won most number of medals?"
   ]
  },
  {
   "cell_type": "code",
   "execution_count": 76,
   "id": "a2b7c063",
   "metadata": {},
   "outputs": [
    {
     "data": {
      "text/plain": [
       "<AxesSubplot:xlabel='Athlete'>"
      ]
     },
     "execution_count": 76,
     "metadata": {},
     "output_type": "execute_result"
    },
    {
     "data": {
      "image/png": "[encoded data removed]",
      "text/plain": [
       "<Figure size 720x360 with 1 Axes>"
      ]
     },
     "metadata": {
      "needs_background": "light"
     },
     "output_type": "display_data"
    }
   ],
   "source": [
    "data = []\n",
    "\n",
    "for Athlete in df['Athlete'].unique():\n",
    "    data.append([Athlete,len(df[df['Athlete'] == Athlete ])])\n",
    "\n",
    "data = pd.DataFrame(data, columns = ['Athlete','Freq of medals']).sort_values(by = 'Freq of medals', ascending = False)\n",
    "data.head().plot(x = 'Athlete', y = 'Freq of medals', kind = 'bar',figsize = (10,5), color = 'red')"
   ]
  },
  {
   "cell_type": "markdown",
   "id": "168c54cd",
   "metadata": {},
   "source": [
    "# 5. Which player has won most number of gold medals of medals so far?"
   ]
  },
  {
   "cell_type": "code",
   "execution_count": 71,
   "id": "49f5b632",
   "metadata": {},
   "outputs": [
    {
     "data": {
      "text/plain": [
       "<AxesSubplot:xlabel='Athlete'>"
      ]
     },
     "execution_count": 71,
     "metadata": {},
     "output_type": "execute_result"
    },
    {
     "data": {
      "image/png": "[encoded data removed]",
      "text/plain": [
       "<Figure size 720x360 with 1 Axes>"
      ]
     },
     "metadata": {
      "needs_background": "light"
     },
     "output_type": "display_data"
    }
   ],
   "source": [
    "gdf = df[df['Medal'] == 'Gold'] \n",
    "\n",
    "data = []\n",
    "\n",
    "for Athlete in gdf['Athlete'].unique():\n",
    "    data.append([Athlete,len(gdf[gdf['Athlete'] == Athlete ])])\n",
    "\n",
    "data = pd.DataFrame(data, columns = ['Athlete','Freq of gold medals']).sort_values(by = 'Freq of gold medals', ascending = False)\n",
    "data.head().plot(x = 'Athlete', y = 'Freq of gold medals', kind = 'bar',figsize = (10,5), color = 'gold')"
   ]
  },
  {
   "cell_type": "markdown",
   "id": "b8756f34",
   "metadata": {},
   "source": [
    "# 6. In which year india won first summer olympic gold medal?"
   ]
  },
  {
   "cell_type": "code",
   "execution_count": 82,
   "id": "1e338b62",
   "metadata": {},
   "outputs": [
    {
     "name": "stdout",
     "output_type": "stream",
     "text": [
      "1928\n"
     ]
    }
   ],
   "source": [
    "gdf = df[df['Medal'] == 'Gold']\n",
    "gdf = gdf[gdf['Country'] == 'IND']\n",
    "\n",
    "\n",
    "for year in gdf['Year']:\n",
    "    print(year)\n",
    "    break\n"
   ]
  },
  {
   "cell_type": "markdown",
   "id": "e418e753",
   "metadata": {},
   "source": [
    "# 7. Which event is most popular in terms of number of players?"
   ]
  },
  {
   "cell_type": "code",
   "execution_count": 84,
   "id": "2302e2c7",
   "metadata": {},
   "outputs": [
    {
     "data": {
      "text/plain": [
       "<AxesSubplot:xlabel='Event'>"
      ]
     },
     "execution_count": 84,
     "metadata": {},
     "output_type": "execute_result"
    },
    {
     "data": {
      "image/png": "[encoded data removed]",
      "text/plain": [
       "<Figure size 720x360 with 1 Axes>"
      ]
     },
     "metadata": {
      "needs_background": "light"
     },
     "output_type": "display_data"
    }
   ],
   "source": [
    "data = []\n",
    "\n",
    "for event in df['Event'].unique():\n",
    "    data.append([event,len(df[df['Event'] == event ])])\n",
    "\n",
    "data = pd.DataFrame(data, columns = ['Event','Freq']).sort_values(by = 'Freq', ascending = False)\n",
    "data.head().plot(x = 'Event', y = 'Freq', kind = 'bar',figsize = (10,5), color = 'blue')"
   ]
  },
  {
   "cell_type": "markdown",
   "id": "53fd5569",
   "metadata": {},
   "source": [
    "# 8. Which sport is having most female gold medalists?"
   ]
  },
  {
   "cell_type": "code",
   "execution_count": 3,
   "id": "13a67078",
   "metadata": {},
   "outputs": [
    {
     "data": {
      "text/plain": [
       "<AxesSubplot:xlabel='Women Athlete'>"
      ]
     },
     "execution_count": 3,
     "metadata": {},
     "output_type": "execute_result"
    },
    {
     "data": {
      "image/png": "[encoded data removed]",
      "text/plain": [
       "<Figure size 720x360 with 1 Axes>"
      ]
     },
     "metadata": {
      "needs_background": "light"
     },
     "output_type": "display_data"
    }
   ],
   "source": [
    "gdf = df[df['Gender'] == 'Women'] \n",
    "gdf = gdf[gdf['Medal'] == 'Gold']\n",
    "\n",
    "data = []\n",
    "\n",
    "for Athlete in gdf['Athlete'].unique():\n",
    "    data.append([Athlete,len(gdf[gdf['Athlete'] == Athlete ])])\n",
    "\n",
    "data = pd.DataFrame(data, columns = ['Women Athlete','Freq of gold medals']).sort_values(by = 'Freq of gold medals', ascending = False)\n",
    "data.head().plot(x = 'Women Athlete', y = 'Freq of gold medals', kind = 'bar',figsize = (10,5), color = 'gold')"
   ]
  },
  {
   "cell_type": "code",
   "execution_count": null,
   "id": "df26739f",
   "metadata": {},
   "outputs": [],
   "source": []
  }
 ],
 "metadata": {
  "kernelspec": {
   "display_name": "Python 3",
   "language": "python",
   "name": "python3"
  },
  "language_info": {
   "codemirror_mode": {
    "name": "ipython",
    "version": 3
   },
   "file_extension": ".py",
   "mimetype": "text/x-python",
   "name": "python",
   "nbconvert_exporter": "python",
   "pygments_lexer": "ipython3",
   "version": "3.8.8"
  }
 },
 "nbformat": 4,
 "nbformat_minor": 5
}
